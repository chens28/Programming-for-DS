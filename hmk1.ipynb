{
 "cells": [
  {
   "cell_type": "markdown",
   "metadata": {
    "id": "6KbPs8TagITl"
   },
   "source": [
    "### Problem 01 (10 points):\n",
    "\n",
    "1. 1 (5 points) Write a function that iteratively calculates factorial $n!$ of an integer $n \\geq 0$, where $n!=1 \\cdot 2 \\cdot \\dots \\cdot n$. Evaluate the function for $n=10$.\n",
    "\n",
    "\n",
    "1. 2 (5 points) Write a function that recursively calculates factorial $n!$ of an integer $n \\geq 0$, where $n!=1 \\cdot 2 \\cdot \\dots \\cdot n$. Evaluate the function for $n=10$.\n"
   ]
  },
  {
   "cell_type": "markdown",
   "metadata": {},
   "source": [
    "### Solution 01"
   ]
  },
  {
   "cell_type": "code",
   "execution_count": 267,
   "metadata": {},
   "outputs": [],
   "source": [
    "# Please enter your solution here \n",
    "# You can create as many new cells as you need"
   ]
  },
  {
   "cell_type": "code",
   "execution_count": 1,
   "metadata": {},
   "outputs": [
    {
     "data": {
      "text/plain": [
       "3628800"
      ]
     },
     "execution_count": 1,
     "metadata": {},
     "output_type": "execute_result"
    }
   ],
   "source": [
    "## P01.1\n",
    "def fact_iter(n):\n",
    "    '''\n",
    "    returns the factorial of n\n",
    "    '''\n",
    "    # case when n = 0 \n",
    "    # 0! = 1\n",
    "    result = 1\n",
    "    # case when n >= 2\n",
    "    # iteratively calculate the factorial\n",
    "    for i in range(1, n+1):\n",
    "        result *= i\n",
    "    \n",
    "    return result\n",
    "    \n",
    "# test\n",
    "fact_iter(10)"
   ]
  },
  {
   "cell_type": "code",
   "execution_count": 4,
   "metadata": {},
   "outputs": [
    {
     "data": {
      "text/plain": [
       "3628800"
      ]
     },
     "execution_count": 4,
     "metadata": {},
     "output_type": "execute_result"
    }
   ],
   "source": [
    "## P01.2\n",
    "def fact_recur(n):\n",
    "    '''\n",
    "    returns the factorial of n\n",
    "    '''\n",
    "    # base case: n = 0, or n = 1\n",
    "    # 0! = 1, 1! = 1\n",
    "    if n <= 1:\n",
    "        return 1\n",
    "    # when n >= 2, recursive call \n",
    "    else: \n",
    "        return n*fact_recur(n-1)\n",
    "        \n",
    "# test\n",
    "fact_recur(10)"
   ]
  },
  {
   "cell_type": "markdown",
   "metadata": {
    "id": "0czGUiabgITl"
   },
   "source": [
    "### Problem 02 (25 points):\n",
    "\n",
    "2. 1 (10 points) Write a function that iteratively calculates the cumulative sum $\\sum_{x=1}^{n} x$ of an integer $n \\geq 0$, , where $\\sum_{x=1}^{n} x = 1 + 2 + \\dots + n$. Evaluate the function for $n = 10$.\n",
    "\n",
    "\n",
    "2. 2 (10 points) Write a function that recursively calculates the cumulative sum $\\sum_{x=1}^{n} x$ of an integer $n \\geq 0$, where $\\sum_{x=1}^{n} x = 1 + 2 + \\dots + n$. Evaluate the function for $n = 10$.\n",
    "\n",
    "\n",
    "2. 3 (5 points) In each of these functions, add an assert statement that raises an AssertionError exception with a custom message if the value of $n$ passed to the function is negative\n"
   ]
  },
  {
   "cell_type": "markdown",
   "metadata": {},
   "source": [
    "### Solution 02"
   ]
  },
  {
   "cell_type": "code",
   "execution_count": 124,
   "metadata": {},
   "outputs": [],
   "source": [
    "# Please enter your solution here \n",
    "# You can create as many new cells as you need"
   ]
  },
  {
   "cell_type": "code",
   "execution_count": 12,
   "metadata": {},
   "outputs": [
    {
     "data": {
      "text/plain": [
       "55"
      ]
     },
     "execution_count": 12,
     "metadata": {},
     "output_type": "execute_result"
    }
   ],
   "source": [
    "## P02.1\n",
    "def sum_iter(n):\n",
    "    '''\n",
    "    returns the sum of 1 through n\n",
    "    '''\n",
    "    # assert n >= 0\n",
    "    assert n >= 0,'n can not be negative'\n",
    "    \n",
    "    # initiate result\n",
    "    result = 0\n",
    "    # iterativelt add x to result\n",
    "    for i in range(1, n+1):\n",
    "        result += i\n",
    "    return result\n",
    "\n",
    "# test\n",
    "sum_iter(10)"
   ]
  },
  {
   "cell_type": "code",
   "execution_count": 11,
   "metadata": {},
   "outputs": [
    {
     "data": {
      "text/plain": [
       "55"
      ]
     },
     "execution_count": 11,
     "metadata": {},
     "output_type": "execute_result"
    }
   ],
   "source": [
    "## P02.2\n",
    "def sum_recur(n):\n",
    "    '''\n",
    "    returns the sum of 1 through n\n",
    "    '''\n",
    "    # assert n >= 0\n",
    "    assert n >= 0,'n can not be negative'\n",
    "   \n",
    "    # base cases\n",
    "    if n == 0:\n",
    "        return 0\n",
    "    # when n >= 1, recursive call \n",
    "    else: \n",
    "        return n+sum_recur(n-1)\n",
    "    \n",
    "# test\n",
    "sum_recur(10)"
   ]
  },
  {
   "cell_type": "code",
   "execution_count": 121,
   "metadata": {},
   "outputs": [],
   "source": [
    "## P02.3\n",
    "# Check the 2 above functions for added assert statement"
   ]
  },
  {
   "cell_type": "markdown",
   "metadata": {
    "id": "0j-R1LkxgITm"
   },
   "source": [
    "\n",
    "### Problem 03 (25 points)\n",
    "\n",
    "For the given text below, write a function which displays the text and returns a dictionary (please call it `char_counts`), where the dictionary maps all distinct characters of the text into the number of their occurrences in the given text. \n",
    "\n",
    "For example, `char_counts['A'] = 1` since `A` only appeared once in the word \"Avenue\".\n",
    "\n",
    "\n",
    "Finally, print the obtained dictionary `char_counts` and its length. \n",
    "\n"
   ]
  },
  {
   "cell_type": "code",
   "execution_count": 2,
   "metadata": {
    "id": "zrJkFxG9gITn"
   },
   "outputs": [],
   "source": [
    "text = \"The Center for Data Science (CDS) is the focal point for New York University’s university-wide efforts in Data Science. The Center was established in 2013 to advance NYU’s goal of creating a world-leading Data Science training and research facility, and arming researchers and professionals with the tools to harness the power of Big Data. Today, CDS counts 16 jointly appointed interdisciplinary faculty housed on two floors of our magnificent 60 5th Avenue building, one of New York City’s historic properties. It is home to a top-ranked MS in Data Science program, one of the first PhD programs in Data Science, and a new undergraduate program in Data Science, as well as a lively Fellow and Postdoctoral program. It has over 60 associate and affiliate faculty from 25 departments in 9 schools and units. With cross-disciplinary research and innovative educational programs, CDS is shaping the new field of Data Science.\""
   ]
  },
  {
   "cell_type": "markdown",
   "metadata": {},
   "source": [
    "### Solution 03"
   ]
  },
  {
   "cell_type": "code",
   "execution_count": 3,
   "metadata": {},
   "outputs": [
    {
     "name": "stdout",
     "output_type": "stream",
     "text": [
      "The Center for Data Science (CDS) is the focal point for New York University’s university-wide efforts in Data Science. The Center was established in 2013 to advance NYU’s goal of creating a world-leading Data Science training and research facility, and arming researchers and professionals with the tools to harness the power of Big Data. Today, CDS counts 16 jointly appointed interdisciplinary faculty housed on two floors of our magnificent 60 5th Avenue building, one of New York City’s historic properties. It is home to a top-ranked MS in Data Science program, one of the first PhD programs in Data Science, and a new undergraduate program in Data Science, as well as a lively Fellow and Postdoctoral program. It has over 60 associate and affiliate faculty from 25 departments in 9 schools and units. With cross-disciplinary research and innovative educational programs, CDS is shaping the new field of Data Science.\n",
      "{'T': 3, 'h': 22, 'e': 73, ' ': 148, 'C': 6, 'n': 57, 't': 55, 'r': 50, 'f': 22, 'o': 56, 'D': 12, 'a': 72, 'S': 11, 'c': 33, 'i': 62, '(': 1, ')': 1, 's': 45, 'l': 26, 'p': 17, 'N': 3, 'w': 12, 'Y': 3, 'k': 3, 'U': 2, 'v': 8, 'y': 11, '’': 3, 'u': 12, '-': 4, 'd': 26, '.': 6, 'b': 2, '2': 2, '0': 3, '1': 2, '3': 1, 'g': 15, ',': 7, 'm': 10, 'B': 1, '6': 3, 'j': 1, '5': 2, 'A': 1, 'I': 2, 'M': 1, 'P': 2, 'F': 1, '9': 1, 'W': 1}\n",
      "51\n"
     ]
    }
   ],
   "source": [
    "# Please enter your solution here \n",
    "# You can create as many new cells as you need\n",
    "\n",
    "## P03\n",
    "def count_char(string):\n",
    "    '''\n",
    "    displays the input text and \n",
    "    returns a dictionary of each distinct characters and their number of occurrences in the input text\n",
    "    '''\n",
    "    \n",
    "    # display the text\n",
    "    print(string)\n",
    "\n",
    "    # initialize the dictionary that will hold the output\n",
    "    output = {}\n",
    "\n",
    "    # loop thrugh each character in the string\n",
    "    for char in string:\n",
    "        # if the character is not in the dictionary's keys, add it to its keys and set count to 1\n",
    "        if char not in output.keys():\n",
    "            output[char] = 1\n",
    "        # if the character is already in the dictionary's keys, increment count by 1\n",
    "        else:\n",
    "            output[char] += 1\n",
    "            \n",
    "    return output\n",
    "\n",
    "# run the funnction on text      \n",
    "char_counts = count_char(text)\n",
    "\n",
    "# print the obtained dictionary char_counts and its length\n",
    "print(char_counts)\n",
    "print(len(char_counts))"
   ]
  },
  {
   "cell_type": "markdown",
   "metadata": {
    "id": "YYjUnUoegITo"
   },
   "source": [
    "### Problem 04 (40 points)\n",
    "\n",
    "4. 1 (10 points) Create a custom class called `animal` which only contains the method `__init__` used to initialize three data attributes: 1) the animal's name, 2) its position along x coordinate, 3) its position along y coordinate\n",
    "\n",
    "\n",
    "4. 2 (10 points) Create a custom class `dog` inherited from the class `animal`, and define a method called `distance` which calculates the distance between the position of the dog and another object in a (x,y) coordinate system\n",
    "\n",
    "\n",
    "4. 3 (5 points) Create an instance of the class `dog`, give your dog a name, position your dog at location (0,0) in the (x,y) coordinate system. Create an instance of the class `animal`, give this animal the name `danger`, and position this animal at location (0.2,0.2). Invoke the method `distance`  to calculate the distance between your dog and `danger`, then print this distance.\n",
    "\n",
    "\n",
    "4. 4 (10 points) Create an empty list named `trajectory`. Using a `while` loop, increment the x coordinate location of your dog by 0.1 at each step, recalculate the distance between your dog and `danger`, append this distance to the list `trajectory`, and exit the loop when this distance is larger than 0.8 units. Write the list in a file called `Dog2D.txt`\n",
    "\n",
    "\n",
    "4. 5 (5 points) Everything is an object in Python. A list is an object. In 4.4, you instantiated a list called `trajectory`. Invoke a built-in Python function on this list object to calculate the smallest distance your dog was to the danger in the trajectory followed, then print this distance.\n"
   ]
  },
  {
   "cell_type": "markdown",
   "metadata": {},
   "source": [
    "### Solution 04"
   ]
  },
  {
   "cell_type": "code",
   "execution_count": 4,
   "metadata": {},
   "outputs": [],
   "source": [
    "# Please enter your solution here \n",
    "# You can create as many new cells as you need"
   ]
  },
  {
   "cell_type": "code",
   "execution_count": 5,
   "metadata": {},
   "outputs": [],
   "source": [
    "## P04.1\n",
    "# Class animal\n",
    "class animal(object):\n",
    "    def __init__(self, name, x, y):\n",
    "        self.name = name\n",
    "        self.x = x\n",
    "        self.y = y"
   ]
  },
  {
   "cell_type": "code",
   "execution_count": 6,
   "metadata": {},
   "outputs": [],
   "source": [
    "## P04.2\n",
    "# Class dog\n",
    "class dog(animal):\n",
    "    def distance(self, animal):\n",
    "        '''\n",
    "        returns the distance between the position of the dog and another object in a (x,y) coordinate system\n",
    "        '''\n",
    "        \n",
    "        # dsitance = sqrt((x1 - x2)^2 + (y1 - y2)^2)\n",
    "        delta_x_sq = (self.x - animal.x)**2\n",
    "        delta_y_sq = (self.y - animal.y)**2\n",
    "        \n",
    "        return (delta_x_sq + delta_y_sq)**(1/2)  "
   ]
  },
  {
   "cell_type": "code",
   "execution_count": 7,
   "metadata": {},
   "outputs": [
    {
     "name": "stdout",
     "output_type": "stream",
     "text": [
      "0.28284271247461906\n"
     ]
    }
   ],
   "source": [
    "## P04.3\n",
    "# create my_dog and danger\n",
    "my_dog = dog(name = 'Niu Niu', x = 0, y = 0)\n",
    "danger = animal(name = 'danger', x = 0.2, y = 0.2)\n",
    "\n",
    "# compute distance and print it\n",
    "dist = my_dog.distance(danger)\n",
    "print(dist)"
   ]
  },
  {
   "cell_type": "code",
   "execution_count": 8,
   "metadata": {},
   "outputs": [],
   "source": [
    "## P04.4\n",
    "# create trajectory list\n",
    "trajectory = []\n",
    "while my_dog.distance(danger) <= 0.8:\n",
    "    my_dog = dog(name = my_dog.name, x = my_dog.x + 0.1, y= my_dog.y)\n",
    "    trajectory.append((my_dog.distance(danger)))\n",
    "\n",
    "# write trajectory list to a file called Dog2D.txt\n",
    "with open('Dog2D.txt', 'w') as f:\n",
    "    # need to convert the floats in the list to strings\n",
    "    f.write('\\n'.join(str(dist) for dist in trajectory))"
   ]
  },
  {
   "cell_type": "code",
   "execution_count": 9,
   "metadata": {},
   "outputs": [
    {
     "name": "stdout",
     "output_type": "stream",
     "text": [
      "0.2\n"
     ]
    }
   ],
   "source": [
    "## P04.5\n",
    "# print the smallest distance in the list trajectory \n",
    "smallest = min(trajectory)\n",
    "print(smallest)"
   ]
  }
 ],
 "metadata": {
  "colab": {
   "provenance": []
  },
  "kernelspec": {
   "display_name": "Python 3 (ipykernel)",
   "language": "python",
   "name": "python3"
  },
  "language_info": {
   "codemirror_mode": {
    "name": "ipython",
    "version": 3
   },
   "file_extension": ".py",
   "mimetype": "text/x-python",
   "name": "python",
   "nbconvert_exporter": "python",
   "pygments_lexer": "ipython3",
   "version": "3.9.12"
  }
 },
 "nbformat": 4,
 "nbformat_minor": 1
}
