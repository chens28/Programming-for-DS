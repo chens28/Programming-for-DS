{
 "cells": [
  {
   "cell_type": "markdown",
   "metadata": {
    "id": "06NcjKxz0utB"
   },
   "source": [
    "### Problem 01 (10 points):\n",
    "\n",
    "1. 1 (5 points) Write a function that iteratively calculates the square $x^2$ of a positive integer number $x$. Print its worst-case complexity using the big-O notation. Estimate the average running time of this function when applied to $x=100$\n",
    "\n",
    "\n",
    "1. 2 (5 points) Write a function that recursively calculates the square $x^2$ of a positive integer number $x$. Print its worst-case complexity using the big-O notation. Estimate the average running time of this function when applied to $x=100$\n"
   ]
  },
  {
   "cell_type": "code",
   "execution_count": 28,
   "metadata": {},
   "outputs": [
    {
     "name": "stdout",
     "output_type": "stream",
     "text": [
      "Worst-case complexity is O(n^2)\n",
      "412 µs ± 1.02 µs per loop (mean ± std. dev. of 7 runs, 1,000 loops each)\n"
     ]
    }
   ],
   "source": [
    "# P01.1 iterative square \n",
    "\n",
    "def iter_squared(x):\n",
    "    '''\n",
    "    returns the square of x\n",
    "    '''\n",
    "    #initialize result\n",
    "    result = 0\n",
    "    \n",
    "    for i in range(x):\n",
    "        for j in range(x):\n",
    "            result += 1\n",
    "            \n",
    "    return result\n",
    "\n",
    "print(\"Worst-case complexity is O(n^2)\")\n",
    "\n",
    "%timeit iter_squared(100)"
   ]
  },
  {
   "cell_type": "code",
   "execution_count": 29,
   "metadata": {},
   "outputs": [
    {
     "name": "stdout",
     "output_type": "stream",
     "text": [
      "Worst-case complexity is O(n)\n",
      "14.2 µs ± 40.8 ns per loop (mean ± std. dev. of 7 runs, 100,000 loops each)\n"
     ]
    }
   ],
   "source": [
    "# P01.2 recursive square \n",
    "\n",
    "def recur_squared(x):\n",
    "    '''\n",
    "    returns the square of x\n",
    "    '''\n",
    "    # base case\n",
    "    if x == 1:\n",
    "        return 1\n",
    "    else:\n",
    "        return recur_squared(x-1) + 2*x - 1\n",
    "    \n",
    "print(\"Worst-case complexity is O(n)\")\n",
    "\n",
    "%timeit recur_squared(100)"
   ]
  },
  {
   "cell_type": "markdown",
   "metadata": {
    "id": "f_WEUxHe0utC"
   },
   "source": [
    "### Problem 02 (40 points):\n",
    "\n",
    "2.1 (5 points) Write a function that performs a selection sort (Function from the lecture is accepted)\n",
    "\n",
    "2.2 (5 points) Write a function that performs a bubble sort (Function from the lecture is accepted)\n",
    "\n",
    "2.3 (5 points) Write a function that performs a merge sort (Function from the lecture is accepted)\n",
    "\n",
    "2.4 (10 points) The file `ComedyMovies.json` contains a dictionary with the top 100 comedy movies of the 21st centruy (source: IMDb). The keys are the movie names and the values are the durations (in minutes) of the movies. Read the file and load it into a dictionary name `movies`. Create a list l containing the durations of the 100 movies. Sort this list using each of the functions from 2.1, 2.2, and 2.3 \n",
    "\n",
    "2.5 (10 points) Estimate the average running time of the functions from 2.1, 2.2, and 2.3 when applied to the list l\n",
    "\n",
    "2.6 (5 points) The following snippet: `sorted(movies.items(), key=lambda x: x[1])` leverages the list built-in method `sorted` to sort the keys (names of movies) of the dictionary `movies` based on the its values (durations of movies). Estimate the average running time of this built-in method when applied to `movies`\n"
   ]
  },
  {
   "cell_type": "code",
   "execution_count": 30,
   "metadata": {
    "id": "MjpDQ90j0utD"
   },
   "outputs": [],
   "source": [
    "# To open the json file and load it into a dictionary data structure:\n",
    "import json\n",
    "d = json.load(open('ComedyMovies.json'))"
   ]
  },
  {
   "cell_type": "code",
   "execution_count": 31,
   "metadata": {},
   "outputs": [],
   "source": [
    "# P02.1 selection sort \n",
    "\n",
    "def selection_sort(L):\n",
    "    '''\n",
    "    takes a list and sort it in ascending order\n",
    "    returns a sorted list\n",
    "    '''\n",
    "    list = L[:]\n",
    "    \n",
    "    for i in range(len(list)):\n",
    "        min_i = i\n",
    "        for j in range(i+1, len(list)):\n",
    "            if list[j] < list[min_i]:\n",
    "                min_i = j\n",
    "        (list[i], list[min_i]) = (list[min_i], list[i])\n",
    "       \n",
    "    return list"
   ]
  },
  {
   "cell_type": "code",
   "execution_count": 32,
   "metadata": {},
   "outputs": [],
   "source": [
    "# P02.2 bubble sort \n",
    "\n",
    "def bubble_sort(L):\n",
    "    '''\n",
    "    takes a list and sort it in ascending order\n",
    "    returns a sorted list\n",
    "    '''\n",
    "    list = L[:]\n",
    "    \n",
    "    swap = True\n",
    "    while swap:\n",
    "        swap = False\n",
    "        for i in range(len(list)-1):\n",
    "            if list[i] > list[i+1]:\n",
    "                swap = True\n",
    "                (list[i], list[i+1]) = (list[i+1], list[i])\n",
    "                \n",
    "    return list"
   ]
  },
  {
   "cell_type": "code",
   "execution_count": 33,
   "metadata": {},
   "outputs": [],
   "source": [
    "# P02.3 merge sort \n",
    "\n",
    "def merge_sort(list):\n",
    "    '''\n",
    "    takes a list and sort it in ascending order\n",
    "    returns a sorted list\n",
    "    '''\n",
    "    if len(list) < 2:\n",
    "        return list[:]\n",
    "    else:\n",
    "        m = len(list)//2\n",
    "        left = merge_sort(list[:m])\n",
    "        right = merge_sort(list[m:])\n",
    "        \n",
    "        return merge(left, right)\n",
    "    \n",
    "def merge(left, right):\n",
    "    '''\n",
    "    merge two sorted lists into one\n",
    "    returns a sorted list\n",
    "    '''\n",
    "    result = []\n",
    "    i,j = 0,0\n",
    "    while i < len(left) and j < len(right):\n",
    "        if left[i] < right[j]:\n",
    "            result.append(left[i])\n",
    "            i += 1\n",
    "            \n",
    "        else:\n",
    "            result.append(right[j])\n",
    "            j += 1\n",
    "            \n",
    "    while i < len(left):\n",
    "        result.append(left[i])\n",
    "        i += 1\n",
    "        \n",
    "    while j < len(right):\n",
    "        result.append(right[j])\n",
    "        j += 1\n",
    "    \n",
    "    return result"
   ]
  },
  {
   "cell_type": "code",
   "execution_count": 34,
   "metadata": {},
   "outputs": [
    {
     "name": "stdout",
     "output_type": "stream",
     "text": [
      "[81, 83, 83, 84, 85, 85, 85, 86, 86, 86, 88, 88, 88, 88, 89, 90, 90, 91, 92, 92, 92, 93, 93, 93, 94, 94, 94, 95, 96, 96, 96, 97, 98, 98, 98, 98, 99, 99, 99, 99, 100, 100, 100, 101, 101, 101, 102, 102, 103, 103, 103, 103, 104, 104, 104, 105, 105, 106, 107, 107, 107, 107, 108, 108, 108, 108, 109, 109, 109, 110, 110, 110, 111, 111, 112, 112, 112, 112, 113, 113, 113, 113, 115, 115, 116, 116, 117, 117, 117, 118, 118, 119, 119, 120, 121, 122, 123, 125, 129, 129]\n",
      "\n",
      "\n",
      "[81, 83, 83, 84, 85, 85, 85, 86, 86, 86, 88, 88, 88, 88, 89, 90, 90, 91, 92, 92, 92, 93, 93, 93, 94, 94, 94, 95, 96, 96, 96, 97, 98, 98, 98, 98, 99, 99, 99, 99, 100, 100, 100, 101, 101, 101, 102, 102, 103, 103, 103, 103, 104, 104, 104, 105, 105, 106, 107, 107, 107, 107, 108, 108, 108, 108, 109, 109, 109, 110, 110, 110, 111, 111, 112, 112, 112, 112, 113, 113, 113, 113, 115, 115, 116, 116, 117, 117, 117, 118, 118, 119, 119, 120, 121, 122, 123, 125, 129, 129]\n",
      "\n",
      "\n",
      "[81, 83, 83, 84, 85, 85, 85, 86, 86, 86, 88, 88, 88, 88, 89, 90, 90, 91, 92, 92, 92, 93, 93, 93, 94, 94, 94, 95, 96, 96, 96, 97, 98, 98, 98, 98, 99, 99, 99, 99, 100, 100, 100, 101, 101, 101, 102, 102, 103, 103, 103, 103, 104, 104, 104, 105, 105, 106, 107, 107, 107, 107, 108, 108, 108, 108, 109, 109, 109, 110, 110, 110, 111, 111, 112, 112, 112, 112, 113, 113, 113, 113, 115, 115, 116, 116, 117, 117, 117, 118, 118, 119, 119, 120, 121, 122, 123, 125, 129, 129]\n",
      "\n",
      "\n"
     ]
    }
   ],
   "source": [
    "# P02.4\n",
    "movies = json.load(open('ComedyMovies.json'))\n",
    "l = list(movies.values())\n",
    "\n",
    "# selection sort\n",
    "l_selection = selection_sort(l)\n",
    "print(l_selection)\n",
    "print('\\n')\n",
    "\n",
    "# bubble sort\n",
    "l_bubble = bubble_sort(l)\n",
    "print(l_bubble)\n",
    "print('\\n')\n",
    "\n",
    "# merge sort\n",
    "l_merge = merge_sort(l)\n",
    "print(l_merge)\n",
    "print('\\n')"
   ]
  },
  {
   "cell_type": "code",
   "execution_count": 35,
   "metadata": {},
   "outputs": [
    {
     "name": "stdout",
     "output_type": "stream",
     "text": [
      "322 µs ± 1.13 µs per loop (mean ± std. dev. of 7 runs, 1,000 loops each)\n",
      "892 µs ± 3.03 µs per loop (mean ± std. dev. of 7 runs, 1,000 loops each)\n",
      "195 µs ± 909 ns per loop (mean ± std. dev. of 7 runs, 10,000 loops each)\n"
     ]
    }
   ],
   "source": [
    "# P02.5\n",
    "\n",
    "# selection sort\n",
    "%timeit selection_sort(l)\n",
    "\n",
    "# bubble sort\n",
    "%timeit bubble_sort(l)\n",
    "\n",
    "# merge sort\n",
    "%timeit merge_sort(l)"
   ]
  },
  {
   "cell_type": "code",
   "execution_count": 36,
   "metadata": {},
   "outputs": [
    {
     "name": "stdout",
     "output_type": "stream",
     "text": [
      "9.54 µs ± 27.3 ns per loop (mean ± std. dev. of 7 runs, 100,000 loops each)\n"
     ]
    }
   ],
   "source": [
    "# P02.6\n",
    "\n",
    "%timeit sorted(movies.items(), key=lambda x: x[1])"
   ]
  },
  {
   "cell_type": "markdown",
   "metadata": {
    "id": "7w6q-JUs0utF"
   },
   "source": [
    "### Problem 03 (20 points)"
   ]
  },
  {
   "cell_type": "markdown",
   "metadata": {
    "id": "26CIeVWJ0utG"
   },
   "source": [
    "Using Linux commands (Lecture 4, Lab 5), write commands to:\n",
    "\n",
    "3.1 (5 points) Type a single command which can replace all occurences of the word ```ATOM``` by the word ```OBJECT``` in the file ```ascorbic-acid.pdb```\n",
    "\n",
    "3.2 (5 points) Loop over an index i ranging from 1 to 5, and at every iteration of the loop create a folder called ```f$i``` (that is, create five folders called f1, f2, f3, f4 and f5) \n",
    "\n",
    "3.3 (10 point) Copy all files in current directory that end with ```.pdb``` to the folder f2, then go to the directory f2 and display its content.  Finally, move the file ```ascorbic-acid.pdb``` one folder up, go back one folder up, and delete all folders that start with a ```f```\n"
   ]
  },
  {
   "cell_type": "code",
   "execution_count": 37,
   "metadata": {},
   "outputs": [
    {
     "name": "stdout",
     "output_type": "stream",
     "text": [
      "env: file1=./ascorbic-acid.pdb\n"
     ]
    }
   ],
   "source": [
    "%env file1 = ./ascorbic-acid.pdb"
   ]
  },
  {
   "cell_type": "code",
   "execution_count": 38,
   "metadata": {},
   "outputs": [
    {
     "name": "stdout",
     "output_type": "stream",
     "text": [
      "COMPND      ASCORBIC ACID, VITAMIN C\r\n",
      "AUTHOR      DAVE WOODCOCK  96 05 24\r\n",
      "ATOM      1  C           1       0.182   0.119  -0.645  1.00  0.00\r\n",
      "ATOM      2  C           1       0.591  -1.187   0.091  1.00  0.00\r\n",
      "ATOM      3  C           1       1.908  -1.150   0.401  1.00  0.00\r\n",
      "ATOM      4  C           1       2.407   0.104   0.031  1.00  0.00\r\n",
      "ATOM      5  O           1       1.453   0.978  -0.535  1.00  0.00\r\n",
      "ATOM      6  O           1       3.677   0.478   0.175  1.00  0.00\r\n",
      "ATOM      7  O           1       2.621  -2.174   1.011  1.00  0.00\r\n",
      "ATOM      8  O           1      -0.324  -2.236   0.293  1.00  0.00\r\n",
      "ATOM      9  H           1      -0.030  -0.160  -1.688  1.00  0.00\r\n",
      "ATOM     10  C           1      -1.084   0.762   0.207  1.00  0.00\r\n",
      "ATOM     11  H           1      -1.959   0.100   0.315  1.00  0.00\r\n",
      "ATOM     12  O           1      -0.591   1.195   1.590  1.00  0.00\r\n",
      "ATOM     13  C           1      -1.585   2.076  -0.581  1.00  0.00\r\n",
      "ATOM     14  O           1      -2.771   2.432   0.067  1.00  0.00\r\n",
      "ATOM     15  H           1       1.946  -2.997   1.192  1.00  0.00\r\n",
      "ATOM     16  H           1      -0.747  -2.497  -0.666  1.00  0.00\r\n",
      "ATOM     17  H           1       0.118   2.004   1.470  1.00  0.00\r\n",
      "ATOM     18  H           1      -1.839   1.784  -1.606  1.00  0.00\r\n",
      "ATOM     19  H           1      -0.831   2.856  -0.721  1.00  0.00\r\n",
      "ATOM     20  H           1      -2.572   2.906   1.016  1.00  0.00\r\n",
      "TER      21              1\r\n",
      "END\r\n"
     ]
    }
   ],
   "source": [
    "!cat $file1"
   ]
  },
  {
   "cell_type": "code",
   "execution_count": 39,
   "metadata": {},
   "outputs": [
    {
     "name": "stdout",
     "output_type": "stream",
     "text": [
      "COMPND      ASCORBIC ACID, VITAMIN C\r\n",
      "AUTHOR      DAVE WOODCOCK  96 05 24\r\n",
      "OBJECT      1  C           1       0.182   0.119  -0.645  1.00  0.00\r\n",
      "OBJECT      2  C           1       0.591  -1.187   0.091  1.00  0.00\r\n",
      "OBJECT      3  C           1       1.908  -1.150   0.401  1.00  0.00\r\n",
      "OBJECT      4  C           1       2.407   0.104   0.031  1.00  0.00\r\n",
      "OBJECT      5  O           1       1.453   0.978  -0.535  1.00  0.00\r\n",
      "OBJECT      6  O           1       3.677   0.478   0.175  1.00  0.00\r\n",
      "OBJECT      7  O           1       2.621  -2.174   1.011  1.00  0.00\r\n",
      "OBJECT      8  O           1      -0.324  -2.236   0.293  1.00  0.00\r\n",
      "OBJECT      9  H           1      -0.030  -0.160  -1.688  1.00  0.00\r\n",
      "OBJECT     10  C           1      -1.084   0.762   0.207  1.00  0.00\r\n",
      "OBJECT     11  H           1      -1.959   0.100   0.315  1.00  0.00\r\n",
      "OBJECT     12  O           1      -0.591   1.195   1.590  1.00  0.00\r\n",
      "OBJECT     13  C           1      -1.585   2.076  -0.581  1.00  0.00\r\n",
      "OBJECT     14  O           1      -2.771   2.432   0.067  1.00  0.00\r\n",
      "OBJECT     15  H           1       1.946  -2.997   1.192  1.00  0.00\r\n",
      "OBJECT     16  H           1      -0.747  -2.497  -0.666  1.00  0.00\r\n",
      "OBJECT     17  H           1       0.118   2.004   1.470  1.00  0.00\r\n",
      "OBJECT     18  H           1      -1.839   1.784  -1.606  1.00  0.00\r\n",
      "OBJECT     19  H           1      -0.831   2.856  -0.721  1.00  0.00\r\n",
      "OBJECT     20  H           1      -2.572   2.906   1.016  1.00  0.00\r\n",
      "TER      21              1\r\n",
      "END\r\n"
     ]
    }
   ],
   "source": [
    "# P03.1\n",
    "!sed -e s/ATOM/OBJECT/g $file1"
   ]
  },
  {
   "cell_type": "code",
   "execution_count": 40,
   "metadata": {},
   "outputs": [],
   "source": [
    "# P03.2\n",
    "!for i in 1 2 3 4 5; do mkdir f$i; done"
   ]
  },
  {
   "cell_type": "code",
   "execution_count": 41,
   "metadata": {},
   "outputs": [],
   "source": [
    "# P03.3\n",
    "!cp ./*.pdb f2/."
   ]
  },
  {
   "cell_type": "code",
   "execution_count": 42,
   "metadata": {},
   "outputs": [
    {
     "name": "stdout",
     "output_type": "stream",
     "text": [
      "/Users/summerliu/Desktop/Hmk2/dsga1007_hw02/f2\n"
     ]
    }
   ],
   "source": [
    "# P03.3\n",
    "%cd ./f2"
   ]
  },
  {
   "cell_type": "code",
   "execution_count": 43,
   "metadata": {},
   "outputs": [
    {
     "name": "stdout",
     "output_type": "stream",
     "text": [
      "ascorbic-acid.pdb\r\n"
     ]
    }
   ],
   "source": [
    "# P03.3\n",
    "!ls"
   ]
  },
  {
   "cell_type": "code",
   "execution_count": 44,
   "metadata": {},
   "outputs": [],
   "source": [
    "# P03.3\n",
    "%mv ascorbic-acid.pdb .."
   ]
  },
  {
   "cell_type": "code",
   "execution_count": 45,
   "metadata": {},
   "outputs": [
    {
     "name": "stdout",
     "output_type": "stream",
     "text": [
      "/Users/summerliu/Desktop/Hmk2/dsga1007_hw02\n"
     ]
    }
   ],
   "source": [
    "# P03.3\n",
    "%cd .. "
   ]
  },
  {
   "cell_type": "code",
   "execution_count": 46,
   "metadata": {},
   "outputs": [],
   "source": [
    "# P03.3\n",
    "%rm -r f*"
   ]
  },
  {
   "cell_type": "markdown",
   "metadata": {
    "id": "9xZRFjKL0utI"
   },
   "source": [
    "\n",
    "### Problem 04 (30 points)\n"
   ]
  },
  {
   "cell_type": "markdown",
   "metadata": {
    "id": "0Z6H54jM0utJ"
   },
   "source": [
    "The file `nba2020.csv` contains the schedules and information of the NBA games for 2020. Using only Linux commands (Lecture 4, Lab 5), write programs which will display:\n",
    "   \n",
    "4.1 (5 point) The count of all lines having the string ```'New York Knicks'``` in it\n",
    "   \n",
    "4.2 (10 points) A unique list of NBA teams provided in the file, sorted in alphabetic order; (you can use either the column \"Visitor\" or the column \"Home\"), see hint provided below\n",
    "\n",
    "4.3 (5 points) The number of those NBA teams\n",
    "\n",
    "4.4 (10 points) A unique list of the times provided in the file when the NBA matches were played\n"
   ]
  },
  {
   "cell_type": "markdown",
   "metadata": {
    "id": "S4OwNh5p0utJ"
   },
   "source": [
    "**Hint:** For problems 4.2, 4.3 and 4.4. use a series of piped commands, including the command ```cut``` to select the relevant column, as seen in class and lab \n",
    "  "
   ]
  },
  {
   "cell_type": "code",
   "execution_count": 47,
   "metadata": {},
   "outputs": [
    {
     "name": "stdout",
     "output_type": "stream",
     "text": [
      "env: file2=./nba2020.csv\n"
     ]
    }
   ],
   "source": [
    "%env file2 = ./nba2020.csv"
   ]
  },
  {
   "cell_type": "code",
   "execution_count": 48,
   "metadata": {},
   "outputs": [
    {
     "name": "stdout",
     "output_type": "stream",
     "text": [
      " Date,Start (ET),Visitor/Neutral,PTS,Home/Neutral,PTS,,,Attend.,Notes\r\n",
      "Tue Oct 22 2019,8:00p,New Orleans Pelicans,122,Toronto Raptors,130,Box Score,OT,20787,\r\n",
      "Tue Oct 22 2019,10:30p,Los Angeles Lakers,102,Los Angeles Clippers,112,Box Score,,19068,\r\n",
      "Wed Oct 23 2019,7:00p,Chicago Bulls,125,Charlotte Hornets,126,Box Score,,15424,\r\n",
      "Wed Oct 23 2019,7:00p,Detroit Pistons,119,Indiana Pacers,110,Box Score,,17923,\r\n"
     ]
    }
   ],
   "source": [
    "!head -n 5 $file2"
   ]
  },
  {
   "cell_type": "code",
   "execution_count": 49,
   "metadata": {},
   "outputs": [
    {
     "name": "stdout",
     "output_type": "stream",
     "text": [
      "       5\r\n"
     ]
    }
   ],
   "source": [
    "# P04.1\n",
    "!grep -i 'New York Knicks' $file2 | wc -l"
   ]
  },
  {
   "cell_type": "code",
   "execution_count": 50,
   "metadata": {},
   "outputs": [
    {
     "name": "stdout",
     "output_type": "stream",
     "text": [
      "Atlanta Hawks\r\n",
      "Boston Celtics\r\n",
      "Brooklyn Nets\r\n",
      "Charlotte Hornets\r\n",
      "Chicago Bulls\r\n",
      "Cleveland Cavaliers\r\n",
      "Dallas Mavericks\r\n",
      "Denver Nuggets\r\n",
      "Detroit Pistons\r\n",
      "Golden State Warriors\r\n",
      "Houston Rockets\r\n",
      "Indiana Pacers\r\n",
      "Los Angeles Clippers\r\n",
      "Los Angeles Lakers\r\n",
      "Memphis Grizzlies\r\n",
      "Miami Heat\r\n",
      "Milwaukee Bucks\r\n",
      "Minnesota Timberwolves\r\n",
      "New Orleans Pelicans\r\n",
      "New York Knicks\r\n",
      "Oklahoma City Thunder\r\n",
      "Orlando Magic\r\n",
      "Philadelphia 76ers\r\n",
      "Phoenix Suns\r\n",
      "Portland Trail Blazers\r\n",
      "Sacramento Kings\r\n",
      "San Antonio Spurs\r\n",
      "Toronto Raptors\r\n",
      "Utah Jazz\r\n",
      "Washington Wizards\r\n"
     ]
    }
   ],
   "source": [
    "# P04.2\n",
    "!tail -n +2 $file2 | cut -d ',' -f 3 | sort | uniq"
   ]
  },
  {
   "cell_type": "code",
   "execution_count": 51,
   "metadata": {},
   "outputs": [
    {
     "name": "stdout",
     "output_type": "stream",
     "text": [
      "      30\r\n"
     ]
    }
   ],
   "source": [
    "# P04.3\n",
    "!tail -n +2 $file2 | cut -d ',' -f 3 | sort | uniq | wc -l"
   ]
  },
  {
   "cell_type": "code",
   "execution_count": 52,
   "metadata": {},
   "outputs": [
    {
     "name": "stdout",
     "output_type": "stream",
     "text": [
      "\r\n",
      "10:00p\r\n",
      "10:30p\r\n",
      "3:30p\r\n",
      "5:00p\r\n",
      "6:00p\r\n",
      "7:00p\r\n",
      "7:30p\r\n",
      "8:00p\r\n",
      "8:30p\r\n",
      "9:00p\r\n",
      "9:30p\r\n"
     ]
    }
   ],
   "source": [
    "# P04.4\n",
    "!tail -n +2 $file2 | cut -d ',' -f 2 | sort | uniq"
   ]
  },
  {
   "cell_type": "code",
   "execution_count": null,
   "metadata": {},
   "outputs": [],
   "source": []
  }
 ],
 "metadata": {
  "colab": {
   "collapsed_sections": [],
   "provenance": []
  },
  "kernelspec": {
   "display_name": "Python 3 (ipykernel)",
   "language": "python",
   "name": "python3"
  },
  "language_info": {
   "codemirror_mode": {
    "name": "ipython",
    "version": 3
   },
   "file_extension": ".py",
   "mimetype": "text/x-python",
   "name": "python",
   "nbconvert_exporter": "python",
   "pygments_lexer": "ipython3",
   "version": "3.9.12"
  }
 },
 "nbformat": 4,
 "nbformat_minor": 1
}
